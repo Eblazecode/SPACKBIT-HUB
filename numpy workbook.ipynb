{
  "nbformat": 4,
  "nbformat_minor": 0,
  "metadata": {
    "colab": {
      "name": "Untitled1.ipynb",
      "version": "0.3.2",
      "provenance": [],
      "include_colab_link": true
    },
    "kernelspec": {
      "name": "python3",
      "display_name": "Python 3"
    }
  },
  "cells": [
    {
      "cell_type": "markdown",
      "metadata": {
        "id": "view-in-github",
        "colab_type": "text"
      },
      "source": [
        "<a href=\"https://colab.research.google.com/github/Eblazecode/SpackBit/blob/master/numpy%20workbook.ipynb\" target=\"_parent\"><img src=\"https://colab.research.google.com/assets/colab-badge.svg\" alt=\"Open In Colab\"/></a>"
      ]
    },
    {
      "metadata": {
        "id": "ezm3MV79qsLH",
        "colab_type": "code",
        "colab": {}
      },
      "cell_type": "code",
      "source": [
        "#CREATING AN ARRAY\n",
        "import numpy as np \n",
        "arr1 = np.array([1,3,5,2])\n",
        "print(arr1)\n",
        "\n",
        "#CREATING A 2-D ARRAY AND SHOWING THE TYPE\n",
        "arr2 = np.array([(5,3,2,1),(2,3,5,0)])\n",
        "print(arr2)\n",
        "print(arr2.dtype)\n",
        "\n",
        "#CREATING A 2-D ARRAY AND INDICATING YOU TYPE \n",
        "arr3 = np.array([(1,3,2,1),(2,8,5,0)],dtype= float)\n",
        "print(arr2)\n",
        "print(arr2.dtype)\n"
      ],
      "execution_count": 0,
      "outputs": []
    },
    {
      "metadata": {
        "id": "L8EyQ4ukt_wJ",
        "colab_type": "code",
        "colab": {}
      },
      "cell_type": "code",
      "source": [
        "#DEFINING AN ARRAY OF CHOICE\n",
        "# ZERO MATRIX\n",
        "arr4 = np.zeros([3,4])\n",
        "print(arr4)\n",
        "\n",
        "# IDENTITY MATRIX\n",
        "arr5 = np.ones([3,4])\n",
        "print(arr5)\n",
        "\n",
        "#using range of numbers\n",
        "arr6 = np.arange(3,15,2)\n",
        "print(arr6)\n",
        "\n",
        "#USING SHAPE FUNCTION TO DEFINE A MATRIX \n",
        "#2-D MAT\n",
        "arr7= np.arange(20).reshape(4,5)\n",
        "print(arr7)\n",
        "\n",
        "#3D MAT\n",
        "arr7= np.arange(30).reshape(2,3,5)\n",
        "print(arr7)\n"
      ],
      "execution_count": 0,
      "outputs": []
    },
    {
      "metadata": {
        "id": "Y-YQnM5MzZpD",
        "colab_type": "code",
        "colab": {
          "base_uri": "https://localhost:8080/",
          "height": 317
        },
        "outputId": "a7f3a97d-e993-4057-ec0c-275cb7afe993"
      },
      "cell_type": "code",
      "source": [
        "#BASIC OPERATIONS OF MATRIX \n",
        "#SUBTRACTION\n",
        "arr8= np.array([6,7,5,4,8])\n",
        "arr9 = np.array([3,5,4,0,7])\n",
        "ans =arr8 - arr9\n",
        "print (ans)\n",
        "\n",
        "arr10 = np.arange(10).reshape(5,2)\n",
        "ans2= np.sin(arr10)\n",
        "print(ans2)\n",
        "\n",
        "#MULTIPLICATION\n",
        "\n",
        "arr11 = np.array([[8,4,5],\n",
        "                  [1,4,5]])\n",
        "arr12 = np.array([[2,5,1],\n",
        "                  [5,9,2]])\n",
        "ans3 = arr11.dot(arr12)\n",
        "print(ans3)"
      ],
      "execution_count": 33,
      "outputs": [
        {
          "output_type": "stream",
          "text": [
            "[3 2 1 4 1]\n",
            "[[ 0.          0.84147098]\n",
            " [ 0.90929743  0.14112001]\n",
            " [-0.7568025  -0.95892427]\n",
            " [-0.2794155   0.6569866 ]\n",
            " [ 0.98935825  0.41211849]]\n"
          ],
          "name": "stdout"
        },
        {
          "output_type": "error",
          "ename": "ValueError",
          "evalue": "ignored",
          "traceback": [
            "\u001b[0;31m---------------------------------------------------------------------------\u001b[0m",
            "\u001b[0;31mValueError\u001b[0m                                Traceback (most recent call last)",
            "\u001b[0;32m<ipython-input-33-f5653804230d>\u001b[0m in \u001b[0;36m<module>\u001b[0;34m()\u001b[0m\n\u001b[1;32m     14\u001b[0m arr12 = np.array([[2,5,1],\n\u001b[1;32m     15\u001b[0m                   [5,9,2]])\n\u001b[0;32m---> 16\u001b[0;31m \u001b[0mans3\u001b[0m \u001b[0;34m=\u001b[0m \u001b[0marr11\u001b[0m\u001b[0;34m.\u001b[0m\u001b[0mdot\u001b[0m\u001b[0;34m(\u001b[0m\u001b[0marr12\u001b[0m\u001b[0;34m)\u001b[0m\u001b[0;34m\u001b[0m\u001b[0;34m\u001b[0m\u001b[0m\n\u001b[0m\u001b[1;32m     17\u001b[0m \u001b[0mprint\u001b[0m\u001b[0;34m(\u001b[0m\u001b[0mans3\u001b[0m\u001b[0;34m)\u001b[0m\u001b[0;34m\u001b[0m\u001b[0;34m\u001b[0m\u001b[0m\n",
            "\u001b[0;31mValueError\u001b[0m: shapes (2,3) and (2,3) not aligned: 3 (dim 1) != 2 (dim 0)"
          ]
        }
      ]
    }
  ]
}